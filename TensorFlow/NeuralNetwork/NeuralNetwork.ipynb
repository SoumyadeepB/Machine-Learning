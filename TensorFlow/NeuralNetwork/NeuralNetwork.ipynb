{
 "cells": [
  {
   "cell_type": "code",
   "execution_count": 1,
   "metadata": {},
   "outputs": [],
   "source": [
    "import tensorflow as tf\n",
    "import os\n",
    "import numpy as np\n",
    "import pandas as pd\n",
    "import matplotlib.pyplot as plt"
   ]
  },
  {
   "cell_type": "code",
   "execution_count": 2,
   "metadata": {},
   "outputs": [],
   "source": [
    "os.environ[\"CUDA_VISIBLE_DEVICES\"]=\"0\" #for training on gpu\n",
    "data = pd.read_csv('data2class.txt',delimiter= '\\s+',header=None)"
   ]
  },
  {
   "cell_type": "code",
   "execution_count": 3,
   "metadata": {},
   "outputs": [],
   "source": [
    "x_inp = np.array(data.loc[:,0:1])\n",
    "y_inp = np.array(data.loc[:,2])\n",
    "y_inp=y_inp.reshape(len(y_inp), 1)"
   ]
  },
  {
   "cell_type": "code",
   "execution_count": 4,
   "metadata": {},
   "outputs": [],
   "source": [
    "n_input = 2\n",
    "n_hidden1 = 100\n",
    "n_hidden2 = 100\n",
    "n_output = 1\n",
    "alpha = 0.01\n",
    "epochs = 1000\n"
   ]
  },
  {
   "cell_type": "code",
   "execution_count": 5,
   "metadata": {},
   "outputs": [],
   "source": [
    "X = tf.placeholder(shape=[None,n_input],dtype=tf.float32)\n",
    "Y = tf.placeholder(shape=[None,1],dtype=tf.float32)"
   ]
  },
  {
   "cell_type": "code",
   "execution_count": 6,
   "metadata": {},
   "outputs": [
    {
     "name": "stdout",
     "output_type": "stream",
     "text": [
      "WARNING:tensorflow:From c:\\python\\python37\\lib\\site-packages\\tensorflow\\python\\framework\\op_def_library.py:263: colocate_with (from tensorflow.python.framework.ops) is deprecated and will be removed in a future version.\n",
      "Instructions for updating:\n",
      "Colocations handled automatically by placer.\n"
     ]
    }
   ],
   "source": [
    "#Weights \n",
    "W1 = tf.Variable(tf.random.normal([n_input,n_hidden1],mean=0,stddev=0.1),name=\"W1\")\n",
    "W2 = tf.Variable(tf.random.normal([n_hidden1,n_hidden2],mean=0,stddev=0.1),name=\"W2\")\n",
    "W3 = tf.Variable(tf.random.normal([n_hidden2,n_output],mean=0,stddev=0.1),name=\"W3\")\n",
    "\n",
    "#Biases\n",
    "b1 = tf.Variable(tf.zeros([n_hidden1],name=\"bias1\"))\n",
    "b2 = tf.Variable(tf.zeros([n_hidden2],name=\"bias2\"))\n",
    "b3 = tf.Variable(tf.zeros([n_output],name=\"bias3\"))"
   ]
  },
  {
   "cell_type": "code",
   "execution_count": null,
   "metadata": {},
   "outputs": [],
   "source": []
  },
  {
   "cell_type": "code",
   "execution_count": 7,
   "metadata": {},
   "outputs": [
    {
     "name": "stdout",
     "output_type": "stream",
     "text": [
      "WARNING:tensorflow:From c:\\python\\python37\\lib\\site-packages\\tensorflow\\python\\ops\\losses\\losses_impl.py:379: to_float (from tensorflow.python.ops.math_ops) is deprecated and will be removed in a future version.\n",
      "Instructions for updating:\n",
      "Use tf.cast instead.\n"
     ]
    }
   ],
   "source": [
    "L1 = tf.add(tf.matmul(X,W1), b1)\n",
    "z1 = tf.nn.relu(L1)\n",
    "\n",
    "L2 = tf.add(tf.matmul(z1,W2), b2)\n",
    "z2 = tf.nn.relu(L2)\n",
    "\n",
    "output_layer = tf.add(tf.matmul(z2,W3), b3)\n",
    "\n",
    "loss = tf.reduce_sum(tf.losses.hinge_loss(logits=output_layer,labels=Y))\n",
    "optimizer = tf.train.AdamOptimizer(alpha).minimize(loss)\n"
   ]
  },
  {
   "cell_type": "code",
   "execution_count": 8,
   "metadata": {},
   "outputs": [
    {
     "name": "stdout",
     "output_type": "stream",
     "text": [
      "Epoch: 1  || Loss = 1.03755\n",
      "Epoch: 101  || Loss = 0.09436\n",
      "Epoch: 201  || Loss = 0.04661\n",
      "Epoch: 301  || Loss = 0.03320\n",
      "Epoch: 401  || Loss = 0.04248\n",
      "Epoch: 501  || Loss = 0.02857\n",
      "Epoch: 601  || Loss = 0.02834\n",
      "Epoch: 701  || Loss = 0.02592\n",
      "Epoch: 801  || Loss = 0.03424\n",
      "Epoch: 901  || Loss = 0.02315\n",
      "\n",
      "Training complete!\n"
     ]
    }
   ],
   "source": [
    "loss_plot = np.zeros(epochs)\n",
    "init = tf.global_variables_initializer()\n",
    "with tf.Session() as sess:\n",
    "    # create initialized variables\n",
    "    sess.run(init)\n",
    "    \n",
    "    ### for each epoch, do:\n",
    "    ###   for each batch, do:\n",
    "    ###     create pre-processed batch\n",
    "    ###     run optimizer by feeding batch\n",
    "    ###     find cost and reiterate to minimize\n",
    "    \n",
    "    for epoch in range(epochs):\n",
    "        _, l,W_1,W_2,W_3,b_1,b_2,b_3 = sess.run([optimizer, loss,W1,W2,W3,b1,b2,b3], feed_dict = {X: x_inp, Y: y_inp})\n",
    "        loss_plot[epoch]=l;\n",
    "        if(epoch%100==0):\n",
    "            print(\"Epoch:\", (epoch+1), \" || Loss =\", \"{:.5f}\".format(l))\n",
    "    \n",
    "\n",
    "print(\"\\nTraining complete!\")"
   ]
  },
  {
   "cell_type": "code",
   "execution_count": 9,
   "metadata": {},
   "outputs": [],
   "source": [
    "#tf.summary.histogram('histogram',W1)\n",
    "#tf.summary.histogram('histogram',W2)\n",
    "#tf.summary.histogram('histogram',W3)\n",
    "#tf.summary.histogram('histogram',b1)\n",
    "#tf.summary.histogram('histogram',b2)\n",
    "#tf.summary.histogram('histogram',b3)\n",
    "writer = tf.summary.FileWriter('logs', sess.graph)"
   ]
  },
  {
   "cell_type": "code",
   "execution_count": null,
   "metadata": {},
   "outputs": [],
   "source": []
  },
  {
   "cell_type": "code",
   "execution_count": 10,
   "metadata": {},
   "outputs": [
    {
     "data": {
      "text/plain": [
       "Text(0, 0.5, 'Loss')"
      ]
     },
     "execution_count": 10,
     "metadata": {},
     "output_type": "execute_result"
    },
    {
     "data": {
      "image/png": "[encoded data removed]",
      "text/plain": [
       "<Figure size 1080x576 with 1 Axes>"
      ]
     },
     "metadata": {
      "needs_background": "light"
     },
     "output_type": "display_data"
    }
   ],
   "source": [
    "plt.figure(figsize=(15,8))\n",
    "plt.plot(range(epochs), loss_plot)\n",
    "plt.xlabel('Epochs', fontsize=12)  \n",
    "plt.ylabel('Loss', fontsize=12)  "
   ]
  },
  {
   "cell_type": "markdown",
   "metadata": {},
   "source": [
    "# xx = np.arange(-3,3,0.001)\n",
    "yy = np.arange(-3,3,0.001)\n",
    "Feature = np.array([6000*6000,2])\n",
    "\n",
    "for i=1:6000:\n",
    "            for j=1:6000:\n",
    "                    Feature[j,i]=\n",
    "                    \n",
    "                    L1 = tf.add(tf.matmul(X,W_1), b1)\n",
    "                    z1 = tf.nn.relu(L1)\n",
    "\n",
    "                    L2 = tf.add(tf.matmul(z1,W2), b2)\n",
    "                    z2 = tf.nn.relu(L2)\n",
    "\n",
    "                    output_layer = tf.add(tf.matmul(z2,W3), b3)\n",
    "                    x1.append(xx)\n",
    "                    x2.append(yy)\n",
    "grid = np.zeros([6000,6000])"
   ]
  },
  {
   "cell_type": "code",
   "execution_count": null,
   "metadata": {},
   "outputs": [],
   "source": []
  },
  {
   "cell_type": "code",
   "execution_count": null,
   "metadata": {},
   "outputs": [],
   "source": []
  },
  {
   "cell_type": "code",
   "execution_count": null,
   "metadata": {},
   "outputs": [],
   "source": []
  },
  {
   "cell_type": "code",
   "execution_count": null,
   "metadata": {},
   "outputs": [],
   "source": []
  },
  {
   "cell_type": "code",
   "execution_count": null,
   "metadata": {},
   "outputs": [],
   "source": []
  },
  {
   "cell_type": "code",
   "execution_count": null,
   "metadata": {},
   "outputs": [],
   "source": []
  },
  {
   "cell_type": "code",
   "execution_count": null,
   "metadata": {},
   "outputs": [],
   "source": []
  },
  {
   "cell_type": "code",
   "execution_count": null,
   "metadata": {},
   "outputs": [],
   "source": []
  },
  {
   "cell_type": "code",
   "execution_count": null,
   "metadata": {},
   "outputs": [],
   "source": []
  },
  {
   "cell_type": "code",
   "execution_count": null,
   "metadata": {},
   "outputs": [],
   "source": []
  }
 ],
 "metadata": {
  "kernelspec": {
   "display_name": "Python 3",
   "language": "python",
   "name": "python3"
  },
  "language_info": {
   "codemirror_mode": {
    "name": "ipython",
    "version": 3
   },
   "file_extension": ".py",
   "mimetype": "text/x-python",
   "name": "python",
   "nbconvert_exporter": "python",
   "pygments_lexer": "ipython3",
   "version": "3.7.3"
  }
 },
 "nbformat": 4,
 "nbformat_minor": 2
}
