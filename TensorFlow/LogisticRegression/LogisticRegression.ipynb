{
 "cells": [
  {
   "cell_type": "code",
   "execution_count": 1,
   "metadata": {},
   "outputs": [],
   "source": [
    "import tensorflow as tf\n",
    "import numpy as np"
   ]
  },
  {
   "cell_type": "code",
   "execution_count": 2,
   "metadata": {},
   "outputs": [],
   "source": [
    "def numpy_equations(X, beta, y):\n",
    "    p = 1. / (1. + np.exp(-np.dot(X, beta)))\n",
    "    L = -np.sum(y * np.log(p) + ((1. - y) * np.log(1.-p)))\n",
    "    dL = np.dot(X.T, p - y)\n",
    "    W = np.identity(X.shape[0]) * p * (1. - p)\n",
    "    ddL = np.dot(X.T, np.dot(W, X))\n",
    "    return L, dL, ddL"
   ]
  },
  {
   "cell_type": "code",
   "execution_count": 3,
   "metadata": {},
   "outputs": [],
   "source": [
    "X = tf.placeholder(tf.float32, [100, 3]) \n",
    "y = tf.placeholder(tf.float32, [100,1])  "
   ]
  },
  {
   "cell_type": "code",
   "execution_count": 4,
   "metadata": {},
   "outputs": [
    {
     "name": "stdout",
     "output_type": "stream",
     "text": [
      "WARNING:tensorflow:From c:\\python\\python37\\lib\\site-packages\\tensorflow\\python\\framework\\op_def_library.py:263: colocate_with (from tensorflow.python.framework.ops) is deprecated and will be removed in a future version.\n",
      "Instructions for updating:\n",
      "Colocations handled automatically by placer.\n"
     ]
    }
   ],
   "source": [
    "W = tf.Variable(tf.random.normal([3,1],mean=0,stddev=0.1))\n",
    "a = tf.sigmoid(tf.matmul(X,W))"
   ]
  },
  {
   "cell_type": "code",
   "execution_count": 5,
   "metadata": {},
   "outputs": [
    {
     "name": "stdout",
     "output_type": "stream",
     "text": [
      "WARNING:tensorflow:From c:\\python\\python37\\lib\\site-packages\\tensorflow\\python\\ops\\math_ops.py:3066: to_int32 (from tensorflow.python.ops.math_ops) is deprecated and will be removed in a future version.\n",
      "Instructions for updating:\n",
      "Use tf.cast instead.\n"
     ]
    }
   ],
   "source": [
    "Loss = tf.math.reduce_sum(-(y*tf.log(a) + (1-y)*tf.log(1-a)))\n",
    "grad = tf.gradients(Loss,W)\n",
    "hess = tf.hessians(Loss,W)"
   ]
  },
  {
   "cell_type": "code",
   "execution_count": null,
   "metadata": {},
   "outputs": [],
   "source": []
  },
  {
   "cell_type": "code",
   "execution_count": 6,
   "metadata": {},
   "outputs": [
    {
     "name": "stdout",
     "output_type": "stream",
     "text": [
      "Loss: 69.08168\n",
      "Gradient: [array([[-1.2836927 ],\n",
      "       [-0.07522888],\n",
      "       [-1.2461971 ]], dtype=float32)]\n",
      "Hessian: [array([[[[8.69115  ],\n",
      "         [5.471984 ],\n",
      "         [6.1153893]]],\n",
      "\n",
      "\n",
      "       [[[5.471984 ],\n",
      "         [6.485411 ],\n",
      "         [5.429249 ]]],\n",
      "\n",
      "\n",
      "       [[[6.11539  ],\n",
      "         [5.4292493],\n",
      "         [8.113903 ]]]], dtype=float32)]\n"
     ]
    }
   ],
   "source": [
    "\n",
    "# Create a tensorflow session\n",
    "\n",
    "sess = tf.Session()\n",
    "# Initialize our weight variables.\n",
    "init_op=tf.global_variables_initializer()\n",
    "sess.run(init_op)\n",
    "L,G,H,X1,y1,W1=sess.run([Loss,grad,hess,X,y,W],feed_dict={X: np.random.rand(100,3), y: np.random.rand(100,1)})\n",
    "# Initialize all tensorflow variables\n",
    "print(\"Loss: \"+str(L))\n",
    "print(\"Gradient: \"+str(G))\n",
    "print(\"Hessian: \"+str(H))"
   ]
  },
  {
   "cell_type": "code",
   "execution_count": 7,
   "metadata": {},
   "outputs": [
    {
     "name": "stdout",
     "output_type": "stream",
     "text": [
      "Loss= 69.08168\n",
      "Gradient= [[-1.2836924 ]\n",
      " [-0.07522891]\n",
      " [-1.2461971 ]]\n",
      "Hessian= [[8.6911486  5.47198326 6.11538987]\n",
      " [5.47198326 6.48541081 5.42925004]\n",
      " [6.11538987 5.42925004 8.11390583]]\n"
     ]
    }
   ],
   "source": [
    "[L1,dL,ddL] = numpy_equations(X1,W1,y1)\n",
    "print(\"Loss= \"+str(L1))\n",
    "print(\"Gradient= \"+str(dL))\n",
    "print(\"Hessian= \"+str(ddL))"
   ]
  },
  {
   "cell_type": "code",
   "execution_count": 9,
   "metadata": {},
   "outputs": [],
   "source": [
    "# Save summary of graphs\n",
    "writer = tf.summary.FileWriter('logs', sess.graph)"
   ]
  },
  {
   "cell_type": "code",
   "execution_count": null,
   "metadata": {},
   "outputs": [],
   "source": []
  },
  {
   "cell_type": "code",
   "execution_count": null,
   "metadata": {},
   "outputs": [],
   "source": []
  }
 ],
 "metadata": {
  "kernelspec": {
   "display_name": "Python 3",
   "language": "python",
   "name": "python3"
  },
  "language_info": {
   "codemirror_mode": {
    "name": "ipython",
    "version": 3
   },
   "file_extension": ".py",
   "mimetype": "text/x-python",
   "name": "python",
   "nbconvert_exporter": "python",
   "pygments_lexer": "ipython3",
   "version": "3.7.3"
  }
 },
 "nbformat": 4,
 "nbformat_minor": 2
}
